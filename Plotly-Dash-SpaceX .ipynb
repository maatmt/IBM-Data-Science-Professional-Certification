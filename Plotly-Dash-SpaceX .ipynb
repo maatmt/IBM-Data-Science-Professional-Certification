{
 "cells": [
  {
   "cell_type": "code",
   "execution_count": 19,
   "id": "079de76c",
   "metadata": {},
   "outputs": [
    {
     "name": "stdout",
     "output_type": "stream",
     "text": [
      "Requirement already satisfied: dash in c:\\ana\\lib\\site-packages (2.17.1)\n",
      "Requirement already satisfied: pandas in c:\\ana\\lib\\site-packages (2.0.3)\n",
      "Requirement already satisfied: plotly in c:\\ana\\lib\\site-packages (5.9.0)\n",
      "Requirement already satisfied: Flask<3.1,>=1.0.4 in c:\\ana\\lib\\site-packages (from dash) (2.2.2)\n",
      "Requirement already satisfied: Werkzeug<3.1 in c:\\ana\\lib\\site-packages (from dash) (2.2.3)\n",
      "Requirement already satisfied: dash-html-components==2.0.0 in c:\\ana\\lib\\site-packages (from dash) (2.0.0)\n",
      "Requirement already satisfied: dash-core-components==2.0.0 in c:\\ana\\lib\\site-packages (from dash) (2.0.0)\n",
      "Requirement already satisfied: dash-table==5.0.0 in c:\\ana\\lib\\site-packages (from dash) (5.0.0)\n",
      "Requirement already satisfied: importlib-metadata in c:\\ana\\lib\\site-packages (from dash) (6.0.0)\n",
      "Requirement already satisfied: typing-extensions>=4.1.1 in c:\\ana\\lib\\site-packages (from dash) (4.7.1)\n",
      "Requirement already satisfied: requests in c:\\ana\\lib\\site-packages (from dash) (2.31.0)\n",
      "Requirement already satisfied: retrying in c:\\ana\\lib\\site-packages (from dash) (1.3.4)\n",
      "Requirement already satisfied: nest-asyncio in c:\\ana\\lib\\site-packages (from dash) (1.5.6)\n",
      "Requirement already satisfied: setuptools in c:\\ana\\lib\\site-packages (from dash) (68.0.0)\n",
      "Requirement already satisfied: python-dateutil>=2.8.2 in c:\\ana\\lib\\site-packages (from pandas) (2.8.2)\n",
      "Requirement already satisfied: pytz>=2020.1 in c:\\ana\\lib\\site-packages (from pandas) (2023.3.post1)\n",
      "Requirement already satisfied: tzdata>=2022.1 in c:\\ana\\lib\\site-packages (from pandas) (2023.3)\n",
      "Requirement already satisfied: numpy>=1.21.0 in c:\\ana\\lib\\site-packages (from pandas) (1.24.3)\n",
      "Requirement already satisfied: tenacity>=6.2.0 in c:\\ana\\lib\\site-packages (from plotly) (8.2.2)\n",
      "Requirement already satisfied: Jinja2>=3.0 in c:\\ana\\lib\\site-packages (from Flask<3.1,>=1.0.4->dash) (3.1.2)\n",
      "Requirement already satisfied: itsdangerous>=2.0 in c:\\ana\\lib\\site-packages (from Flask<3.1,>=1.0.4->dash) (2.0.1)\n",
      "Requirement already satisfied: click>=8.0 in c:\\ana\\lib\\site-packages (from Flask<3.1,>=1.0.4->dash) (8.0.4)\n",
      "Requirement already satisfied: six>=1.5 in c:\\ana\\lib\\site-packages (from python-dateutil>=2.8.2->pandas) (1.16.0)\n",
      "Requirement already satisfied: MarkupSafe>=2.1.1 in c:\\ana\\lib\\site-packages (from Werkzeug<3.1->dash) (2.1.1)\n",
      "Requirement already satisfied: zipp>=0.5 in c:\\ana\\lib\\site-packages (from importlib-metadata->dash) (3.11.0)\n",
      "Requirement already satisfied: charset-normalizer<4,>=2 in c:\\ana\\lib\\site-packages (from requests->dash) (2.0.4)\n",
      "Requirement already satisfied: idna<4,>=2.5 in c:\\ana\\lib\\site-packages (from requests->dash) (3.4)\n",
      "Requirement already satisfied: urllib3<3,>=1.21.1 in c:\\ana\\lib\\site-packages (from requests->dash) (1.26.16)\n",
      "Requirement already satisfied: certifi>=2017.4.17 in c:\\ana\\lib\\site-packages (from requests->dash) (2023.7.22)\n",
      "Requirement already satisfied: colorama in c:\\ana\\lib\\site-packages (from click>=8.0->Flask<3.1,>=1.0.4->dash) (0.4.6)\n",
      "Note: you may need to restart the kernel to use updated packages.\n"
     ]
    }
   ],
   "source": [
    "pip install dash pandas plotly"
   ]
  },
  {
   "cell_type": "code",
   "execution_count": 20,
   "id": "b42ef858",
   "metadata": {},
   "outputs": [],
   "source": [
    "import dash\n",
    "from dash import html\n",
    "from dash import dcc\n",
    "import pandas as pd\n",
    "from dash.dependencies import Input, Output\n",
    "import plotly.express as px"
   ]
  },
  {
   "cell_type": "code",
   "execution_count": 21,
   "id": "520cb573",
   "metadata": {},
   "outputs": [],
   "source": [
    "path=\"https://cf-courses-data.s3.us.cloud-object-storage.appdomain.cloud/IBM-DS0321EN-SkillsNetwork/datasets/spacex_launch_dash.csv\""
   ]
  },
  {
   "cell_type": "code",
   "execution_count": 22,
   "id": "37185571",
   "metadata": {},
   "outputs": [],
   "source": [
    "df=pd.read_csv(path)"
   ]
  },
  {
   "cell_type": "code",
   "execution_count": 23,
   "id": "1c38db1e",
   "metadata": {},
   "outputs": [
    {
     "data": {
      "text/html": [
       "<div>\n",
       "<style scoped>\n",
       "    .dataframe tbody tr th:only-of-type {\n",
       "        vertical-align: middle;\n",
       "    }\n",
       "\n",
       "    .dataframe tbody tr th {\n",
       "        vertical-align: top;\n",
       "    }\n",
       "\n",
       "    .dataframe thead th {\n",
       "        text-align: right;\n",
       "    }\n",
       "</style>\n",
       "<table border=\"1\" class=\"dataframe\">\n",
       "  <thead>\n",
       "    <tr style=\"text-align: right;\">\n",
       "      <th></th>\n",
       "      <th>Unnamed: 0</th>\n",
       "      <th>Flight Number</th>\n",
       "      <th>Launch Site</th>\n",
       "      <th>class</th>\n",
       "      <th>Payload Mass (kg)</th>\n",
       "      <th>Booster Version</th>\n",
       "      <th>Booster Version Category</th>\n",
       "    </tr>\n",
       "  </thead>\n",
       "  <tbody>\n",
       "    <tr>\n",
       "      <th>0</th>\n",
       "      <td>0</td>\n",
       "      <td>1</td>\n",
       "      <td>CCAFS LC-40</td>\n",
       "      <td>0</td>\n",
       "      <td>0.0</td>\n",
       "      <td>F9 v1.0  B0003</td>\n",
       "      <td>v1.0</td>\n",
       "    </tr>\n",
       "    <tr>\n",
       "      <th>1</th>\n",
       "      <td>1</td>\n",
       "      <td>2</td>\n",
       "      <td>CCAFS LC-40</td>\n",
       "      <td>0</td>\n",
       "      <td>0.0</td>\n",
       "      <td>F9 v1.0  B0004</td>\n",
       "      <td>v1.0</td>\n",
       "    </tr>\n",
       "    <tr>\n",
       "      <th>2</th>\n",
       "      <td>2</td>\n",
       "      <td>3</td>\n",
       "      <td>CCAFS LC-40</td>\n",
       "      <td>0</td>\n",
       "      <td>525.0</td>\n",
       "      <td>F9 v1.0  B0005</td>\n",
       "      <td>v1.0</td>\n",
       "    </tr>\n",
       "    <tr>\n",
       "      <th>3</th>\n",
       "      <td>3</td>\n",
       "      <td>4</td>\n",
       "      <td>CCAFS LC-40</td>\n",
       "      <td>0</td>\n",
       "      <td>500.0</td>\n",
       "      <td>F9 v1.0  B0006</td>\n",
       "      <td>v1.0</td>\n",
       "    </tr>\n",
       "    <tr>\n",
       "      <th>4</th>\n",
       "      <td>4</td>\n",
       "      <td>5</td>\n",
       "      <td>CCAFS LC-40</td>\n",
       "      <td>0</td>\n",
       "      <td>677.0</td>\n",
       "      <td>F9 v1.0  B0007</td>\n",
       "      <td>v1.0</td>\n",
       "    </tr>\n",
       "  </tbody>\n",
       "</table>\n",
       "</div>"
      ],
      "text/plain": [
       "   Unnamed: 0  Flight Number  Launch Site  class  Payload Mass (kg)  \\\n",
       "0           0              1  CCAFS LC-40      0                0.0   \n",
       "1           1              2  CCAFS LC-40      0                0.0   \n",
       "2           2              3  CCAFS LC-40      0              525.0   \n",
       "3           3              4  CCAFS LC-40      0              500.0   \n",
       "4           4              5  CCAFS LC-40      0              677.0   \n",
       "\n",
       "  Booster Version Booster Version Category  \n",
       "0  F9 v1.0  B0003                     v1.0  \n",
       "1  F9 v1.0  B0004                     v1.0  \n",
       "2  F9 v1.0  B0005                     v1.0  \n",
       "3  F9 v1.0  B0006                     v1.0  \n",
       "4  F9 v1.0  B0007                     v1.0  "
      ]
     },
     "execution_count": 23,
     "metadata": {},
     "output_type": "execute_result"
    }
   ],
   "source": [
    "df.head()"
   ]
  },
  {
   "cell_type": "code",
   "execution_count": 24,
   "id": "e7c25ac9",
   "metadata": {},
   "outputs": [],
   "source": [
    "# Initialize the Dash app\n",
    "# Initialize the Dash app\n",
    "app = dash.Dash(__name__)\n",
    "\n",
    "# Define the app layout\n",
    "app.layout = html.Div([\n",
    "    html.H1(\"SpaceX Launch Records Dashboard\", style={'textAlign': 'center', 'padding-top': 20}),\n",
    "    \n",
    "    # Dropdown menu for selecting launch site\n",
    "    dcc.Dropdown(id='site-dropdown',\n",
    "                 options=[{'label': site, 'value': site} for site in ['All Sites'] + list(df['Launch Site'].unique())],\n",
    "                 value='All Sites',\n",
    "                 placeholder=\"Select a launch site\",\n",
    "                 style={'width': '80%', 'padding': '3px', 'font-size': '20px', 'text-align-last': 'center'}),\n",
    "    \n",
    "    # Pie chart to display the success rate\n",
    "    html.Div(dcc.Graph(id='success-pie-chart')),\n",
    "])\n"
   ]
  },
  {
   "cell_type": "code",
   "execution_count": 25,
   "id": "24e1d244",
   "metadata": {},
   "outputs": [
    {
     "data": {
      "text/plain": [
       "<dash.dash.Dash at 0x1b91069aed0>"
      ]
     },
     "execution_count": 25,
     "metadata": {},
     "output_type": "execute_result"
    }
   ],
   "source": [
    "app"
   ]
  },
  {
   "cell_type": "code",
   "execution_count": 26,
   "id": "58658a64",
   "metadata": {},
   "outputs": [
    {
     "data": {
      "text/html": [
       "\n",
       "        <iframe\n",
       "            width=\"100%\"\n",
       "            height=\"650\"\n",
       "            src=\"http://127.0.0.1:8050/\"\n",
       "            frameborder=\"0\"\n",
       "            allowfullscreen\n",
       "            \n",
       "        ></iframe>\n",
       "        "
      ],
      "text/plain": [
       "<IPython.lib.display.IFrame at 0x1b9106e5890>"
      ]
     },
     "metadata": {},
     "output_type": "display_data"
    }
   ],
   "source": [
    "app.run_server(mode='inline')"
   ]
  },
  {
   "cell_type": "code",
   "execution_count": 27,
   "id": "f6d33824",
   "metadata": {},
   "outputs": [],
   "source": [
    "@app.callback(\n",
    "    Output('success-pie-chart', 'figure'),\n",
    "    [Input('site-dropdown', 'value')]\n",
    ")\n",
    "def update_pie_chart(selected_site):\n",
    "    if selected_site == 'All Sites':\n",
    "        # Calculate success counts for all launch sites\n",
    "        success_counts = df['Launch Site'].value_counts()\n",
    "        print(success_counts) \n",
    "        title = f'Success Rate for All SpaceX Launch Sites {selected_site}'\n",
    "        fig = px.pie(success_counts, values=success_counts.values, names=success_counts.index,\n",
    "                 title=title)\n",
    "    \n",
    "    else:\n",
    "        # Filter data for the selected launch site\n",
    "        filtered_df = df[df['Launch Site'] == selected_site]\n",
    "        success_counts = filtered_df['class'].value_counts()\n",
    "        success_counts\n",
    "        title = f'Success Rate for {selected_site}'\n",
    "\n",
    "    # Create pie chart\n",
    "    fig = px.pie(success_counts, values=success_counts.values, names=success_counts.index,\n",
    "                 title=title)\n",
    "\n",
    "    return fig\n"
   ]
  },
  {
   "cell_type": "code",
   "execution_count": 28,
   "id": "425368af",
   "metadata": {},
   "outputs": [
    {
     "data": {
      "text/html": [
       "\n",
       "        <iframe\n",
       "            width=\"100%\"\n",
       "            height=\"650\"\n",
       "            src=\"http://127.0.0.1:8050/\"\n",
       "            frameborder=\"0\"\n",
       "            allowfullscreen\n",
       "            \n",
       "        ></iframe>\n",
       "        "
      ],
      "text/plain": [
       "<IPython.lib.display.IFrame at 0x1b91062bf90>"
      ]
     },
     "metadata": {},
     "output_type": "display_data"
    },
    {
     "name": "stdout",
     "output_type": "stream",
     "text": [
      "Launch Site\n",
      "CCAFS LC-40     26\n",
      "KSC LC-39A      13\n",
      "VAFB SLC-4E     10\n",
      "CCAFS SLC-40     7\n",
      "Name: count, dtype: int64\n"
     ]
    }
   ],
   "source": [
    "\n",
    "    app.run_server(mode='inline')"
   ]
  },
  {
   "cell_type": "code",
   "execution_count": 35,
   "id": "ebb1c634",
   "metadata": {},
   "outputs": [],
   "source": [
    "\n",
    "\n",
    "# Define the app layout\n",
    "app.layout = html.Div([\n",
    "    html.H1(\"SpaceX Launch Records Dashboard\", style={'textAlign': 'center', 'padding-top': 20}),\n",
    "    \n",
    "    # Range slider for selecting payload mass\n",
    "    dcc.RangeSlider(id='payload-slider',\n",
    "                    min=int(df['Payload Mass (kg)'].min()),\n",
    "                    max=int(df['Payload Mass (kg)'].max()),\n",
    "                    step=1000,\n",
    "                    marks={i: f'{i}' for i in range(int(df['Payload Mass (kg)'].min()), int(df['Payload Mass (kg)'].max())+1, 2000)},\n",
    "                    value=[int(df['Payload Mass (kg)'].min()), int(df['Payload Mass (kg)'].max())],\n",
    "                    ),\n",
    "    \n",
    "    # Pie chart to display the success rate\n",
    "    html.Div(dcc.Graph(id='success-pie-chart')),\n",
    "])\n",
    "\n",
    "# Define callback function to update pie chart based on dropdown and range slider\n",
    "@app.callback(\n",
    "    Output('success-pie-chart', 'figure'),\n",
    "    [Input('payload-slider', 'value')]\n",
    ")\n",
    "def update_pie_chart(selected_site, payload_range):\n",
    "    if selected_site == 'All Sites':\n",
    "        filtered_df = df[(df['Payload Mass (kg)'] >= payload_range[0]) & (df['Payload Mass (kg)'] <= payload_range[1])]\n",
    "        title = f'Success Rate for All SpaceX Launch Sites '\n",
    "    else:\n",
    "        filtered_df = df[(df['Launch Site'] == selected_site) & \n",
    "                         (df['Payload Mass (kg)'] >= payload_range[0]) & \n",
    "                         (df['Payload Mass (kg)'] <= payload_range[1])]\n",
    "        title = f'Success Rate for {selected_site}'\n",
    "\n",
    "    # Calculate success and failure counts\n",
    "    success_counts = filtered_df['class'].value_counts()\n",
    "\n",
    "    # Create pie chart\n",
    "    fig = px.pie(success_counts, values=success_counts.values, names=success_counts.index,\n",
    "                 title=title)\n",
    "\n",
    "    return fig\n",
    "\n",
    "\n"
   ]
  },
  {
   "cell_type": "code",
   "execution_count": 36,
   "id": "28c825c0",
   "metadata": {
    "scrolled": true
   },
   "outputs": [
    {
     "data": {
      "text/html": [
       "\n",
       "        <iframe\n",
       "            width=\"100%\"\n",
       "            height=\"650\"\n",
       "            src=\"http://127.0.0.1:8050/\"\n",
       "            frameborder=\"0\"\n",
       "            allowfullscreen\n",
       "            \n",
       "        ></iframe>\n",
       "        "
      ],
      "text/plain": [
       "<IPython.lib.display.IFrame at 0x1b90e8b3510>"
      ]
     },
     "metadata": {},
     "output_type": "display_data"
    }
   ],
   "source": [
    "app.run_server(mode='inline')"
   ]
  },
  {
   "cell_type": "code",
   "execution_count": 31,
   "id": "4004c244",
   "metadata": {},
   "outputs": [],
   "source": [
    "\n",
    "# Define the app layout\n",
    "app.layout = html.Div([\n",
    "    html.H1(\"SpaceX Launch Records Dashboard\", style={'textAlign': 'center', 'padding-top': 20}),\n",
    "    \n",
    "    # Dropdown menu for selecting launch site\n",
    "    dcc.Dropdown(id='site-dropdown',\n",
    "                 options=[{'label': site, 'value': site} for site in ['All Sites'] + list(df['Launch Site'].unique())],\n",
    "                 value='All Sites',\n",
    "                 placeholder=\"Select a launch site\",\n",
    "                 style={'width': '80%', 'padding': '3px', 'font-size': '20px', 'text-align-last': 'center'}),\n",
    "    \n",
    "    # Range slider for selecting payload mass\n",
    "    dcc.RangeSlider(id='payload-slider',\n",
    "                    min=int(df['Payload Mass (kg)'].min()),\n",
    "                    max=int(df['Payload Mass (kg)'].max()),\n",
    "                    step=1000,\n",
    "                    marks={i: f'{i}' for i in range(int(df['Payload Mass (kg)'].min()), int(df['Payload Mass (kg)'].max())+1, 2000)},\n",
    "                    value=[int(df['Payload Mass (kg)'].min()), int(df['Payload Mass (kg)'].max())],\n",
    "                    ),\n",
    "    \n",
    "    # Scatter plot to display payload vs. launch outcome\n",
    "    html.Div(dcc.Graph(id='payload-scatter-chart')),\n",
    "    \n",
    "    # Pie chart to display the success rate\n",
    "    html.Div(dcc.Graph(id='success-pie-chart')),\n",
    "])\n"
   ]
  },
  {
   "cell_type": "code",
   "execution_count": 33,
   "id": "cdd0d0ef",
   "metadata": {},
   "outputs": [],
   "source": [
    "@app.callback(\n",
    "    Output('payload-scatter-chart', 'figure'),\n",
    "    [Input('site-dropdown', 'value'),\n",
    "     Input('payload-slider', 'value')]\n",
    ")\n",
    "def update_scatter_chart(selected_site, payload_range):\n",
    "    if selected_site == 'All Sites':\n",
    "        filtered_df = df[(df['Payload Mass (kg)'] >= payload_range[0]) & (df['Payload Mass (kg)'] <= payload_range[1])]\n",
    "        title = f'Payload vs. Launch Outcome for All SpaceX Launch Sites'\n",
    "    else:\n",
    "        filtered_df = df[(df['Launch Site'] == selected_site) & \n",
    "                         (df['Payload Mass (kg)'] >= payload_range[0]) & \n",
    "                         (df['Payload Mass (kg)'] <= payload_range[1])]\n",
    "        title = f'Payload vs. Launch Outcome for {selected_site}'\n",
    "    \n",
    "    # Create scatter plot\n",
    "    fig = px.scatter(filtered_df, x='Payload Mass (kg)', y='class', color='Booster Version Category',\n",
    "                     title=title, hover_data=['Launch Site', 'Payload Mass (kg)', 'class', 'Booster Version'])\n",
    "    \n",
    "    fig.update_layout(showlegend=True)\n",
    "    \n",
    "    return fig\n"
   ]
  },
  {
   "cell_type": "code",
   "execution_count": 34,
   "id": "68c8c38b",
   "metadata": {},
   "outputs": [
    {
     "data": {
      "text/html": [
       "\n",
       "        <iframe\n",
       "            width=\"100%\"\n",
       "            height=\"650\"\n",
       "            src=\"http://127.0.0.1:8050/\"\n",
       "            frameborder=\"0\"\n",
       "            allowfullscreen\n",
       "            \n",
       "        ></iframe>\n",
       "        "
      ],
      "text/plain": [
       "<IPython.lib.display.IFrame at 0x1b910633090>"
      ]
     },
     "metadata": {},
     "output_type": "display_data"
    },
    {
     "name": "stdout",
     "output_type": "stream",
     "text": [
      "Launch Site\n",
      "CCAFS LC-40     26\n",
      "KSC LC-39A      13\n",
      "VAFB SLC-4E     10\n",
      "CCAFS SLC-40     7\n",
      "Name: count, dtype: int64\n"
     ]
    }
   ],
   "source": [
    "app.run_server(mode='inline')"
   ]
  },
  {
   "cell_type": "code",
   "execution_count": null,
   "id": "e4da6c05",
   "metadata": {},
   "outputs": [],
   "source": []
  }
 ],
 "metadata": {
  "kernelspec": {
   "display_name": "Python 3 (ipykernel)",
   "language": "python",
   "name": "python3"
  },
  "language_info": {
   "codemirror_mode": {
    "name": "ipython",
    "version": 3
   },
   "file_extension": ".py",
   "mimetype": "text/x-python",
   "name": "python",
   "nbconvert_exporter": "python",
   "pygments_lexer": "ipython3",
   "version": "3.11.5"
  }
 },
 "nbformat": 4,
 "nbformat_minor": 5
}
